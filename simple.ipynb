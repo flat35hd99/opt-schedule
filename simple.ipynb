{
 "cells": [
  {
   "cell_type": "code",
   "execution_count": 1,
   "metadata": {},
   "outputs": [],
   "source": [
    "import mip"
   ]
  },
  {
   "cell_type": "code",
   "execution_count": 2,
   "metadata": {},
   "outputs": [],
   "source": [
    "def degree_of_neighborhoods(arr_1d):\n",
    "    \"\"\"\n",
    "    [1 1 1 0 0] => 2\n",
    "    [1 0 1 0 1] => 0\n",
    "    [0 1 1 0 0] => 1\n",
    "    [0 1 1 0 1] => 1\n",
    "    [1 1 0 1 0] => 1\n",
    "    \"\"\"\n",
    "    reward_candidates = [0]\n",
    "    is_prev_one = False\n",
    "    \n",
    "    for v in arr_1d:\n",
    "        if v == 0:\n",
    "            is_prev_one = False\n",
    "            if reward_candidates[-1] > 0:\n",
    "                reward_candidates.append(0)\n",
    "            continue\n",
    "        elif is_prev_one:\n",
    "            is_prev_one = True\n",
    "            reward_candidates[-1] += 1\n",
    "        else:\n",
    "            is_prev_one = True\n",
    "    \n",
    "    return max(reward_candidates)\n",
    "\n",
    "for test_arr, expected in [\n",
    "    ([1, 1, 1, 0, 0], 2),\n",
    "    ([1, 0, 1, 0, 1], 0),\n",
    "    ([0, 1, 1, 0, 0], 1),\n",
    "    ([0, 1, 1, 0, 1], 1),\n",
    "    ([1, 1, 0, 1, 0], 1),\n",
    "]:\n",
    "    result = degree_of_neighborhoods(test_arr)\n",
    "    if result != expected:\n",
    "        print(f\"Tested {test_arr} => {expected} but got {result}\")"
   ]
  },
  {
   "cell_type": "code",
   "execution_count": 3,
   "metadata": {},
   "outputs": [],
   "source": [
    "def count_adjacent_ones(arr):\n",
    "    return sum(arr[i] == 1 and arr[i+1] == 1 for i in range(len(arr)-1))\n",
    "\n",
    "for test_arr, expected in [\n",
    "    ([1, 1, 1, 0, 0], 2),\n",
    "    ([1, 0, 1, 0, 1], 0),\n",
    "    ([0, 1, 1, 0, 0], 1),\n",
    "    ([0, 1, 1, 0, 1], 1),\n",
    "    ([1, 1, 0, 1, 0], 1),\n",
    "]:\n",
    "    result = count_adjacent_ones(test_arr)\n",
    "    if result != expected:\n",
    "        print(f\"Tested {test_arr} => {expected} but got {result}\")"
   ]
  },
  {
   "cell_type": "code",
   "execution_count": 4,
   "metadata": {},
   "outputs": [
    {
     "name": "stdout",
     "output_type": "stream",
     "text": [
      "[1, 1, 1, 0, 1]\n",
      "[1, 0, 1, 0, 0]\n"
     ]
    }
   ],
   "source": [
    "hoge = [1, 1, 1, 0, 0]\n",
    "fuga = [1, 0, 1, 0, 1]\n",
    "\n",
    "def union(a,b):\n",
    "    return [max(a[i], b[i]) for i in range(len(a))]\n",
    "\n",
    "def product(a,b):\n",
    "    return [min(a[i], b[i]) for i in range(len(a))]\n",
    "\n",
    "print(union(hoge, fuga))\n",
    "print(product(hoge, fuga))"
   ]
  },
  {
   "cell_type": "code",
   "execution_count": 8,
   "metadata": {},
   "outputs": [],
   "source": [
    "m = mip.Model()\n",
    "\n",
    "# Variables\n",
    "x = m.add_var_tensor((5,), \"x\", var_type=mip.BINARY)\n",
    "y = m.add_var_tensor((5,), \"y\", var_type=mip.BINARY)\n",
    "\n",
    "# Constraints: the conditions that must be met\n",
    "\n",
    "# 各人のスケジュールに合わせる。\n",
    "# xの3,4はシフトに入れない\n",
    "m += x[3] == 0\n",
    "m += x[4] == 0\n",
    "# yの0,1はシフトに入れない\n",
    "m += y[0] == 0\n",
    "m += y[1] == 0\n",
    "\n",
    "# シフトは埋められなければならない\n",
    "# かつ、同じ枠には2人以上入れない\n",
    "for i in range(len(x)):\n",
    "    m += x[i] + y[i] == 1\n",
    "\n",
    "# Objective: the value to be optimized\n",
    "# m.objective = mip.maximize(degree_of_neighborhoods(x))\n",
    "m.objective = mip.maximize(mip.xsum(x[i] == 1 and x[i+1] == 1 for i in range(len(x)-1)))\n",
    "m.objective = mip.maximize(mip.xsum(y[i] == 1 and y[i+1] == 1 for i in range(len(y)-1)))"
   ]
  },
  {
   "cell_type": "code",
   "execution_count": 9,
   "metadata": {},
   "outputs": [
    {
     "name": "stdout",
     "output_type": "stream",
     "text": [
      "Starting solution of the Linear programming relaxation problem using Primal Simplex\n",
      "\n",
      "Coin0506I Presolve 0 (-9) rows, 0 (-10) columns and 0 (-14) elements\n",
      "Clp0000I Optimal - objective value 3\n",
      "Coin0511I After Postsolve, objective 3, infeasibilities - dual 0 (0), primal 0 (0)\n",
      "Clp0032I Optimal objective 3 - 0 iterations time 0.002, Presolve 0.00, Idiot 0.00\n",
      "\n",
      "Starting MIP optimization\n",
      "Cgl0002I 4 variables fixed\n",
      "Cgl0004I processed model has 0 rows, 0 columns (0 integer (0 of which binary)) and 0 elements\n",
      "Cgl0015I Clique Strengthening extended 0 cliques, 0 were dominated\n",
      "Cbc3007W No integer variables\n",
      "Total time (CPU seconds):       0.00   (Wallclock seconds):       0.00\n",
      "\n"
     ]
    },
    {
     "data": {
      "text/plain": [
       "<OptimizationStatus.OPTIMAL: 0>"
      ]
     },
     "execution_count": 9,
     "metadata": {},
     "output_type": "execute_result"
    }
   ],
   "source": [
    "m.optimize()"
   ]
  },
  {
   "cell_type": "code",
   "execution_count": 10,
   "metadata": {},
   "outputs": [
    {
     "name": "stdout",
     "output_type": "stream",
     "text": [
      "1.0\n",
      "1.0\n",
      "0.0\n",
      "0.0\n",
      "0.0\n",
      "0.0\n",
      "0.0\n",
      "1.0\n",
      "1.0\n",
      "1.0\n"
     ]
    }
   ],
   "source": [
    "for v in x:\n",
    "    print(v.x)\n",
    "\n",
    "for v in y:\n",
    "    print(v.x)"
   ]
  }
 ],
 "metadata": {
  "kernelspec": {
   "display_name": "opt",
   "language": "python",
   "name": "python3"
  },
  "language_info": {
   "codemirror_mode": {
    "name": "ipython",
    "version": 3
   },
   "file_extension": ".py",
   "mimetype": "text/x-python",
   "name": "python",
   "nbconvert_exporter": "python",
   "pygments_lexer": "ipython3",
   "version": "3.11.2"
  },
  "orig_nbformat": 4
 },
 "nbformat": 4,
 "nbformat_minor": 2
}
